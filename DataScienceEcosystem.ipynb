{
 "cells": [
  {
   "cell_type": "markdown",
   "metadata": {},
   "source": [
    "<center>\n",
    "    <img src=\"https://cf-courses-data.s3.us.cloud-object-storage.appdomain.cloud/IBMDeveloperSkillsNetwork-DS0105EN-SkillsNetwork/labs/Module2/images/SN_web_lightmode.png\" width=\"300\" alt=\"cognitiveclass.ai logo\">\n",
    "</center>\n"
   ]
  },
  {
   "cell_type": "markdown",
   "metadata": {},
   "source": [
    "#### Add your code below following the instructions given in the course\n"
   ]
  },
  {
   "cell_type": "markdown",
   "metadata": {
    "tags": []
   },
   "source": [
    "# Data Science Tools and Ecosystem\n",
    "![Data_Science](https://jupyterlab-1-labs-prod-jupyterlab-us-east-0.labs.cognitiveclass.ai/user/agungfirmans/files/labs/DS0105EN/2-title.png?_xsrf=2%7C3a4abb69%7Cdb904bac5a08062b12d90855f418fc7d%7C1688912591)"
   ]
  },
  {
   "cell_type": "markdown",
   "metadata": {},
   "source": [
    "In this [notebook](https://jupyterlab-1-labs-prod-jupyterlab-us-east-0.labs.cognitiveclass.ai/user/agungfirmans/files/labs/DS0105EN/3-intro.png?_xsrf=2%7C3a4abb69%7Cdb904bac5a08062b12d90855f418fc7d%7C1688912591), Data Science Tools and Ecosystem are summarized."
   ]
  },
  {
   "cell_type": "markdown",
   "metadata": {},
   "source": [
    "Some of the popular languages that Data Scientists use are:\n",
    "1. Pyhton\n",
    "2. R\n",
    "3. C++\n",
    "4. [JavaScript](https://jupyterlab-1-labs-prod-jupyterlab-us-east-0.labs.cognitiveclass.ai/user/agungfirmans/files/labs/DS0105EN/4-dslanguages.png?_xsrf=2%7C3a4abb69%7Cdb904bac5a08062b12d90855f418fc7d%7C1688912591)"
   ]
  },
  {
   "cell_type": "markdown",
   "metadata": {},
   "source": [
    "Some of the commonly used libraries used by Data Scientists include:\n",
    "- Pandas\n",
    "- Numpy\n",
    "- [Matplotlib](https://jupyterlab-1-labs-prod-jupyterlab-us-east-0.labs.cognitiveclass.ai/user/agungfirmans/files/labs/DS0105EN/5-dslibraries.png?_xsrf=2%7C3a4abb69%7Cdb904bac5a08062b12d90855f418fc7d%7C1688912591)"
   ]
  },
  {
   "cell_type": "markdown",
   "metadata": {},
   "source": [
    "| Data Science Tools |\n",
    "| ------------------ |\n",
    "| Python |\n",
    "| R |\n",
    "| [Java](https://jupyterlab-1-labs-prod-jupyterlab-us-east-0.labs.cognitiveclass.ai/user/agungfirmans/files/labs/DS0105EN/6-dstools.png?_xsrf=2%7C3a4abb69%7Cdb904bac5a08062b12d90855f418fc7d%7C1688912591) |"
   ]
  },
  {
   "cell_type": "markdown",
   "metadata": {
    "tags": []
   },
   "source": [
    "### [Below are a few examples of evaluating arithmetic expressions in Python](https://jupyterlab-1-labs-prod-jupyterlab-us-east-0.labs.cognitiveclass.ai/user/agungfirmans/files/labs/DS0105EN/7-introarithmetic.png?_xsrf=2%7C3a4abb69%7Cdb904bac5a08062b12d90855f418fc7d%7C1688912591)"
   ]
  },
  {
   "cell_type": "code",
   "execution_count": 2,
   "metadata": {
    "tags": []
   },
   "outputs": [
    {
     "data": {
      "text/plain": [
       "17"
      ]
     },
     "execution_count": 2,
     "metadata": {},
     "output_type": "execute_result"
    }
   ],
   "source": [
    "# This a simple arithmetic expression to mutiply then add integers\n",
    "(3*4)+5"
   ]
  },
  {
   "cell_type": "code",
   "execution_count": 8,
   "metadata": {
    "tags": []
   },
   "outputs": [
    {
     "name": "stdout",
     "output_type": "stream",
     "text": [
      "3.3333333333333335\n"
     ]
    }
   ],
   "source": [
    "# This will convert 200 minutes to hours by diving by 60\n",
    "HOURS = 60\n",
    "def convertMinutes(minute):\n",
    "    return minute/HOURS\n",
    "\n",
    "print(convertMinutes(200));"
   ]
  },
  {
   "cell_type": "markdown",
   "metadata": {},
   "source": [
    "**List popular languages for Data Science** :\n",
    "- Python\n",
    "- R\n",
    "- Java\n",
    "- C++"
   ]
  },
  {
   "cell_type": "markdown",
   "metadata": {},
   "source": [
    "## Author\n",
    "Agung Firmansyah"
   ]
  }
 ],
 "metadata": {
  "kernelspec": {
   "display_name": "Python",
   "language": "python",
   "name": "conda-env-python-py"
  },
  "language_info": {
   "codemirror_mode": {
    "name": "ipython",
    "version": 3
   },
   "file_extension": ".py",
   "mimetype": "text/x-python",
   "name": "python",
   "nbconvert_exporter": "python",
   "pygments_lexer": "ipython3",
   "version": "3.7.12"
  }
 },
 "nbformat": 4,
 "nbformat_minor": 4
}
